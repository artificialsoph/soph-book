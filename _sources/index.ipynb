{
 "cells": [
  {
   "cell_type": "markdown",
   "metadata": {},
   "source": [
    "# Hi 👋\n",
    "\n",
    "What is this? Right now, it's a personal experiment put together by\n",
    "[me](https://github.com/artificialsoph).\n",
    "\n",
    "I'm testing a format for writing and serving educational content built around\n",
    "python and other programming languages.\n",
    "\n",
    "## How to use this\n",
    "\n",
    "To the left is a sidebar that organizes all of the content. You can also proceed\n",
    "linearly through using the button on the bottom right corner.\n",
    "\n",
    "Much of the code in this document is meant to be runnable by anyone reading it.\n",
    "You don't have to do anything to set this up, you can simply hit run under any\n",
    "cell, like the one below."
   ]
  },
  {
   "cell_type": "code",
   "execution_count": null,
   "metadata": {},
   "outputs": [],
   "source": [
    "from art import tprint\n",
    "tprint(\"Hi, how are you?\")"
   ]
  },
  {
   "cell_type": "markdown",
   "metadata": {},
   "source": [
    "```{note}\n",
    "We are using free servers provided by\n",
    "[`https://mybinder.org/`](https://mybinder.org/) so it may take a moment for the\n",
    "server to launch and/or run.\n",
    "```\n",
    "\n",
    "```{toctree}\n",
    ":hidden:\n",
    ":titlesonly:\n",
    ":caption: Chapter 1 Getting started\n",
    "\n",
    "content/chapter1/hello\n",
    "```\n",
    "\n",
    "\n",
    "```{toctree}\n",
    ":hidden:\n",
    ":titlesonly:\n",
    ":caption: Internal\n",
    "\n",
    "content/internal/internal.md\n",
    "```"
   ]
  }
 ],
 "metadata": {
  "jupytext": {
   "formats": "md:myst",
   "text_representation": {
    "extension": ".md",
    "format_name": "myst",
    "format_version": "0.8",
    "jupytext_version": "1.4.1+dev"
   }
  },
  "kernelspec": {
   "display_name": "Python 3",
   "language": "python",
   "name": "python3"
  },
  "language_info": {
   "file_extension": ".txt"
  },
  "source_map": [
   13,
   32,
   35
  ]
 },
 "nbformat": 4,
 "nbformat_minor": 4
}