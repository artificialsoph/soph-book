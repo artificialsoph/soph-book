{
 "cells": [
  {
   "cell_type": "markdown",
   "metadata": {},
   "source": [
    "# Hello World\n",
    "\n",
    "Let's get started learning how to code in python. Before anything else, I want you to learn how to get python to do *something*.\n",
    "\n",
    "\n",
    "We'll do this by creating a [\"Hello World\" program](https://en.wikipedia.org/wiki/%22Hello,_World!%22_program), a very simple program that prints the statement \"Hello World\". This can be done by typing `print(\"hello world!\")` into a code block and then selecting the run button. I've gone ahead and done this, so all you need to do is select \"run\"."
   ]
  },
  {
   "cell_type": "code",
   "execution_count": null,
   "metadata": {
    "ExecuteTime": {
     "end_time": "2020-07-10T03:53:33.433259Z",
     "start_time": "2020-07-10T03:53:33.426748Z"
    }
   },
   "outputs": [],
   "source": [
    "# example below\n",
    "print(\"hello world!\")"
   ]
  },
  {
   "cell_type": "markdown",
   "metadata": {},
   "source": [
    "Okay, now it's your turn. I've copied the same cell below but this time, I want you to modify the text between the two quote marks to say something other than \"hello world\". "
   ]
  },
  {
   "cell_type": "code",
   "execution_count": null,
   "metadata": {
    "ExecuteTime": {
     "end_time": "2020-07-10T03:53:33.444530Z",
     "start_time": "2020-07-10T03:53:33.439940Z"
    }
   },
   "outputs": [],
   "source": [
    "#write your code below\n",
    "\n",
    "print(\"hello world!\")"
   ]
  }
 ],
 "metadata": {
  "kernelspec": {
   "display_name": "Python 3",
   "language": "python",
   "name": "python3"
  },
  "language_info": {
   "codemirror_mode": {
    "name": "ipython",
    "version": 3
   },
   "file_extension": ".py",
   "mimetype": "text/x-python",
   "name": "python",
   "nbconvert_exporter": "python",
   "pygments_lexer": "ipython3",
   "version": "3.8.3"
  }
 },
 "nbformat": 4,
 "nbformat_minor": 4
}